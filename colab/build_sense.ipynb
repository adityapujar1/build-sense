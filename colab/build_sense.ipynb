{
  "nbformat": 4,
  "nbformat_minor": 0,
  "metadata": {
    "colab": {
      "name": "build_sense.ipynb",
      "provenance": [],
      "collapsed_sections": [
        "L2xGKjbykaej"
      ]
    },
    "kernelspec": {
      "name": "python3",
      "display_name": "Python 3"
    },
    "language_info": {
      "name": "python"
    },
    "accelerator": "GPU"
  },
  "cells": [
    {
      "cell_type": "markdown",
      "metadata": {
        "id": "QhFoOfvGd8KP"
      },
      "source": [
        "# **YOLOv4 on Build Sense** "
      ]
    },
    {
      "cell_type": "markdown",
      "metadata": {
        "id": "xK3pWnxSirM7"
      },
      "source": [
        "## Instructions to run Google Colab\n",
        "\n",
        "1. Connect Runtime to GPU for better/faster results [RunTime -> Change RunTime Type -> GPU]\n",
        "2. Download the custom dataset and the annotations.\n",
        "3. Upload the custom dataset and the annotations to the Google Drive account connected to this Google Colab Notebook."
      ]
    },
    {
      "cell_type": "markdown",
      "metadata": {
        "id": "Ls0uYznyd6bt"
      },
      "source": [
        "## 0. Prerequisites"
      ]
    },
    {
      "cell_type": "code",
      "metadata": {
        "id": "EWLqMoYhUMPn"
      },
      "source": [
        "# Check whether GPU is provided\n",
        "!nvidia-smi\n",
        "!nvcc --version"
      ],
      "execution_count": null,
      "outputs": []
    },
    {
      "cell_type": "code",
      "metadata": {
        "id": "kqzofaRfb_oZ"
      },
      "source": [
        "# Mount your Google Drive\n",
        "from google.colab import drive\n",
        "drive.mount('/content/drive')"
      ],
      "execution_count": null,
      "outputs": []
    },
    {
      "cell_type": "code",
      "metadata": {
        "id": "qTEI7Ta4cUOt"
      },
      "source": [
        "# Check Python Version and import os to evaluate current directories\n",
        "!python --version\n",
        "import os"
      ],
      "execution_count": null,
      "outputs": []
    },
    {
      "cell_type": "markdown",
      "metadata": {
        "id": "_Aud1_sNeHos"
      },
      "source": [
        "## 1. Setup YOLOv4 and Custom Dataset"
      ]
    },
    {
      "cell_type": "markdown",
      "metadata": {
        "id": "BnelwCyuiS4M"
      },
      "source": [
        "### 1.1. Clone the required repositories"
      ]
    },
    {
      "cell_type": "code",
      "metadata": {
        "id": "1isTP1e7UckO"
      },
      "source": [
        "# Sanity Check: Check Current Directory\n",
        "assert os.getcwd()=='/content', 'Directory should be \"/content\" instead of \"{}\"'.format(os.getcwd())\n",
        "\n",
        "# Clone the required repositories\n",
        "!git clone https://github.com/AlexeyAB/darknet.git    # Official YOLOv4 Implementation\n",
        "!git clone https://github.com/adityapujar1/build-sense.git      # Build Sense repository"
      ],
      "execution_count": null,
      "outputs": []
    },
    {
      "cell_type": "markdown",
      "metadata": {
        "id": "VrT1DqGGiWOx"
      },
      "source": [
        "### 1.2. Update Makefile based on requirements"
      ]
    },
    {
      "cell_type": "code",
      "metadata": {
        "id": "zRlm6iVMdfLc"
      },
      "source": [
        "# Sanity Check: Check Current Directory\n",
        "assert os.getcwd()=='/content', 'Directory should be \"/content\" instead of \"{}\"'.format(os.getcwd())\n",
        "\n",
        "# Update the makefile to have GPU and OPENCV enabled\n",
        "%cd darknet\n",
        "!sed -i 's/OPENCV=0/OPENCV=1/' Makefile\n",
        "!sed -i 's/GPU=0/GPU=1/' Makefile\n",
        "!sed -i 's/CUDNN=0/CUDNN=1/' Makefile"
      ],
      "execution_count": null,
      "outputs": []
    },
    {
      "cell_type": "markdown",
      "metadata": {
        "id": "DfOwbO8ZiaMY"
      },
      "source": [
        "### 1.3. Build Darknet"
      ]
    },
    {
      "cell_type": "code",
      "metadata": {
        "id": "qLDM0t1KduUj"
      },
      "source": [
        "# Sanity Check: Check Current Directory\n",
        "assert os.getcwd()=='/content/darknet', 'Directory should be \"/content/darknet\" instead of \"{}\"'.format(os.getcwd())\n",
        "\n",
        "# Build Darknet\n",
        "!make"
      ],
      "execution_count": null,
      "outputs": []
    },
    {
      "cell_type": "markdown",
      "metadata": {
        "id": "oVV63z0jihF9"
      },
      "source": [
        "### 1.4. Download Pre-trained weights file"
      ]
    },
    {
      "cell_type": "code",
      "metadata": {
        "id": "lMNUfMNQeoj0"
      },
      "source": [
        "# Sanity Check: Check Current Directory\n",
        "assert os.getcwd()=='/content/darknet', 'Directory should be \"/content/darknet\" instead of \"{}\"'.format(os.getcwd())\n",
        "\n",
        "# Download the pretrained weights file\n",
        "!wget https://github.com/AlexeyAB/darknet/releases/download/darknet_yolo_v3_optimal/yolov4.conv.137     # For training cfg/yolov4-custom.cfg\n",
        "!wget https://github.com/AlexeyAB/darknet/releases/download/darknet_yolo_v4_pre/yolov4-tiny.conv.29     # For training cfg/yolov4-tiny-custom.cfg\n",
        "\n",
        "# Change Directory\n",
        "%cd .."
      ],
      "execution_count": null,
      "outputs": []
    },
    {
      "cell_type": "markdown",
      "metadata": {
        "id": "7UxB0bUVij41"
      },
      "source": [
        "### 1.5. Setup the Custom Dataset"
      ]
    },
    {
      "cell_type": "markdown",
      "metadata": {
        "id": "ZDFBdKLJil2K"
      },
      "source": [
        "**Important:** Please fulfill the following conditions to use the custom dataset:\n",
        "1. Download the Images and the Labels and upload the zip folders into the Google Drive connected to this Colab Notebook."
      ]
    },
    {
      "cell_type": "code",
      "metadata": {
        "id": "VsyIos1dfTsC"
      },
      "source": [
        "# Sanity Check: Check Current Directory\n",
        "assert os.getcwd()=='/content', 'Directory should be \"/content\" instead of \"{}\"'.format(os.getcwd())\n",
        "\n",
        "# Sanity Check: Check if the Custom Dataset and the annotations exists in the Google Drive connected to this Google Colab Network\n",
        "assert os.path.exists('./drive/MyDrive/yolo_custom_model_training/build-sense.zip'), 'Custom Dataset does not exist! Please follow the instructions from the cell above!'\n",
        "\n",
        "# Copy the Dataset and the Annotations\n",
        "!cp -rvi ./drive/MyDrive/yolo_custom_model_training/build-sense.zip ./darknet/data/\n",
        "\n",
        "# Change Current Directory\n",
        "%cd darknet\n",
        "\n",
        "# Unzip the Dataset and the Annotations in the data folder\n",
        "!unzip ./data/build-sense.zip -d ./data/\n",
        "\n",
        "# Delete unwanted files\n",
        "!rm -rf ./data/build-sense.zip\n",
        "\n",
        "# Check Contents of the Current Directory\n",
        "print(\"\\nThe contents of the {} directory are:\".format(os.getcwd()))\n",
        "!ls\n",
        "\n",
        "# Count the number of training, validation and test images\n",
        "print(\"Number of training images: {}\".format(len(os.listdir('./data/build-sense/train/'))/2))\n",
        "print(\"Number of validation images: {}\".format(len(os.listdir('./data/build-sense/test/'))/2))"
      ],
      "execution_count": null,
      "outputs": []
    },
    {
      "cell_type": "code",
      "metadata": {
        "id": "Pnh6hUXW2-y8"
      },
      "source": [
        "# Sanity Check: Check Current Directory\n",
        "assert os.getcwd()=='/content/darknet', 'Directory should be \"/content/darknet\" instead of \"{}\"'.format(os.getcwd())\n",
        "\n",
        "# Copy build-sense.names files\n",
        "!cp -vi ../build-sense/data/* ./data/build-sense/"
      ],
      "execution_count": null,
      "outputs": []
    },
    {
      "cell_type": "code",
      "metadata": {
        "id": "Pd5R92sX3AwI"
      },
      "source": [
        "# Sanity Check: Check Current Directory\n",
        "assert os.getcwd()=='/content/darknet', 'Directory should be \"/content/darknet\" instead of \"{}\"'.format(os.getcwd())\n",
        "\n",
        "# Generate Paths to Training and Test Images\n",
        "!python ../build-sense/utils/generate_paths.py -it data/build-sense/train/ -iv data/build-sense/test/ -o ./data/build-sense/\n",
        "\n",
        "# Generate data file containing relative paths to the training, validation and backup folders for YOLOv4\n",
        "!python ../build-sense/utils/generate_data_file.py -c 3 -t data/build-sense/build_sense_train.txt -v data/build-sense/build_sense_test.txt -n data/build-sense/build_sense.names -b backup/ -o ./data/build-sense/"
      ],
      "execution_count": null,
      "outputs": []
    },
    {
      "cell_type": "code",
      "metadata": {
        "id": "fSVygjJj3EBa"
      },
      "source": [
        "# Sanity Check: Check Current Directory\n",
        "assert os.getcwd()=='/content/darknet', 'Directory should be \"/content/darknet\" instead of \"{}\"'.format(os.getcwd())\n",
        "\n",
        "# Copy pre-defined YOLOv4 network config file to cfg folder\n",
        "!cp -vi ../build-sense/config/* ./cfg/"
      ],
      "execution_count": null,
      "outputs": []
    },
    {
      "cell_type": "markdown",
      "metadata": {
        "id": "gNDuTkjIjsbO"
      },
      "source": [
        "### 1.6. Visualize Samples from Custom Dataset"
      ]
    },
    {
      "cell_type": "code",
      "metadata": {
        "id": "6aPWiNdGjwpd"
      },
      "source": [
        "# Sanity Check: Check Current Directory\n",
        "assert os.getcwd()=='/content/darknet', 'Directory should be \"/content/darknet\" instead of \"{}\"'.format(os.getcwd())\n",
        "\n",
        "# Import required libraries\n",
        "import glob\n",
        "import matplotlib.pyplot as plt\n",
        "\n",
        "def read_annotations(imagePath):\n",
        "  annotationsPath = imagePath.replace('.png', '.txt')\n",
        "  with open(annotationsPath, 'rt') as annotationsFile:\n",
        "    print(os.path.basename(annotationsPath) + ': \\n\\n' + annotationsFile.read())\n",
        "\n",
        "imagePath = glob.glob(\"./data/build-sense/train/*.png\")\n",
        "numberOfSamples = 2       # Can be changed based on requirements\n",
        "\n",
        "for sampleIterator in range(numberOfSamples):\n",
        "  fig = plt.figure(figsize=(20,20))\n",
        "  sampleImage = plt.imread(str(imagePath[sampleIterator]))\n",
        "  plt.axis(False)\n",
        "  plt.imshow(sampleImage)\n",
        "  read_annotations(str(imagePath[sampleIterator]))\n",
        "  plt.savefig(\"dataset_sample_{}\".format(sampleIterator), dpi=300)"
      ],
      "execution_count": null,
      "outputs": []
    },
    {
      "cell_type": "markdown",
      "metadata": {
        "id": "3Fmkb-c6j2By"
      },
      "source": [
        "### 1.7. Create Symbolic Link to Google Drive"
      ]
    },
    {
      "cell_type": "markdown",
      "metadata": {
        "id": "X0-dEb3xj5-C"
      },
      "source": [
        "**Important:** This step is important to ensure that the weights are stored in our drive."
      ]
    },
    {
      "cell_type": "code",
      "metadata": {
        "id": "9jVgFemHj5Ha"
      },
      "source": [
        "# Sanity Check: Check Current Directory\n",
        "assert os.getcwd()=='/content/darknet', 'Directory should be \"/content/darknet\" instead of \"{}\"'.format(os.getcwd())\n",
        "\n",
        "# Delete Backup folder\n",
        "!rm -rf ./backup\n",
        "\n",
        "# Create a New Backup Folder\n",
        "!mkdir backup\n",
        "\n",
        "# Create Symbolic links so we can save trained weights file in our Google Drive\n",
        "# Create the folder YOLOv4_weight/backup in your Drive to store trained weights\n",
        "!ln -svt /content/drive/MyDrive/yolo_custom_model_training/YOLOv4_weight/ /content/darknet/backup/"
      ],
      "execution_count": null,
      "outputs": []
    },
    {
      "cell_type": "markdown",
      "metadata": {
        "id": "wRRzroaNj_2D"
      },
      "source": [
        "## 2. Train YOLOv4 on Custom Dataset"
      ]
    },
    {
      "cell_type": "markdown",
      "metadata": {
        "id": "tg43xNU-kEZD"
      },
      "source": [
        "### 2.1. Train YOLOv4 on Berkley DeepDrive Dataset"
      ]
    },
    {
      "cell_type": "markdown",
      "metadata": {
        "id": "NPbpHUgHkGHY"
      },
      "source": [
        "**Important:**\n",
        "1. If you get CUDA out of memory error, adjust the number of sub-divisions in the config file\n",
        "2. Adjust the number of max batches for shorter training time"
      ]
    },
    {
      "cell_type": "code",
      "metadata": {
        "id": "rWiuc-NCj20X"
      },
      "source": [
        "# Sanity Check: Check Current Directory\n",
        "assert os.getcwd()=='/content/darknet', 'Directory should be \"/content/darknet\" instead of \"{}\"'.format(os.getcwd())\n",
        "\n",
        "# Train YOLOv4 on Custom Dataset (Berkley DeepDrive Dataset)\n",
        "!./darknet detector train ./data/build-sense/build_sense.data ./cfg/yolov4-tiny-build-sense.cfg ./yolov4-tiny.conv.29 -dont_show -map"
      ],
      "execution_count": null,
      "outputs": []
    },
    {
      "cell_type": "markdown",
      "metadata": {
        "id": "rVzLke2PkS-s"
      },
      "source": [
        "### 2.2. Visualize Training Results"
      ]
    },
    {
      "cell_type": "code",
      "metadata": {
        "id": "iWbfoJjckU-5"
      },
      "source": [
        "# Sanity Check: Check Current Directory\n",
        "assert os.getcwd()=='/content/darknet', 'Directory should be \"/content/darknet\" instead of \"{}\"'.format(os.getcwd())\n",
        "\n",
        "# Plot Training Results\n",
        "fig = plt.figure(figsize=(20,20))\n",
        "trainingResult = plt.imread(\"chart.png\")\n",
        "plt.axis(False)\n",
        "plt.imshow(trainingResult)"
      ],
      "execution_count": null,
      "outputs": []
    },
    {
      "cell_type": "code",
      "metadata": {
        "id": "QQ_xW9NTTurY"
      },
      "source": [
        "assert False"
      ],
      "execution_count": null,
      "outputs": []
    },
    {
      "cell_type": "markdown",
      "metadata": {
        "id": "L2xGKjbykaej"
      },
      "source": [
        "# 3. Backup"
      ]
    },
    {
      "cell_type": "code",
      "metadata": {
        "id": "6NWtJLBcdTkU"
      },
      "source": [
        "!ls '/content/drive/My Drive/yolo_custom_model_training'"
      ],
      "execution_count": null,
      "outputs": []
    },
    {
      "cell_type": "code",
      "metadata": {
        "id": "L8Lcxxi5VNRr"
      },
      "source": [
        "#!unzip '/content/drive/My Drive/yolo_custom_model_training/custom_data.zip' -d '/content/drive/My Drive/yolo_custom_model_training/custom_data/'"
      ],
      "execution_count": null,
      "outputs": []
    },
    {
      "cell_type": "code",
      "metadata": {
        "id": "IftOzRJ9VmC6"
      },
      "source": [
        "#!git clone \"https://github.com/AlexeyAB/darknet.git\" \"/content/drive/My Drive/yolo_custom_model_training/darknet\""
      ],
      "execution_count": null,
      "outputs": []
    },
    {
      "cell_type": "code",
      "metadata": {
        "id": "4oY_8fUFWdw_"
      },
      "source": [
        "%cd /content/drive/My Drive/yolo_custom_model_training/darknet"
      ],
      "execution_count": null,
      "outputs": []
    },
    {
      "cell_type": "code",
      "metadata": {
        "id": "CDBs8vrxWunz"
      },
      "source": [
        "!ls"
      ],
      "execution_count": null,
      "outputs": []
    },
    {
      "cell_type": "code",
      "metadata": {
        "id": "nNxG788qWxI7"
      },
      "source": [
        "!make"
      ],
      "execution_count": null,
      "outputs": []
    },
    {
      "cell_type": "code",
      "metadata": {
        "id": "0dRdTfq8XFJq"
      },
      "source": [
        "%cd /content/drive/My Drive/yolo_custom_model_training"
      ],
      "execution_count": null,
      "outputs": []
    },
    {
      "cell_type": "code",
      "metadata": {
        "id": "HxgXVcfMb_yC"
      },
      "source": [
        "!python custom_data/creating-files-data-and-name.py"
      ],
      "execution_count": null,
      "outputs": []
    },
    {
      "cell_type": "code",
      "metadata": {
        "id": "zO7NG4iecSqJ"
      },
      "source": [
        "!python custom_data/creating-train-and-test-txt-files.py"
      ],
      "execution_count": null,
      "outputs": []
    },
    {
      "cell_type": "code",
      "metadata": {
        "id": "_MFUIeVkb7Ok"
      },
      "source": [
        ""
      ],
      "execution_count": null,
      "outputs": []
    },
    {
      "cell_type": "code",
      "metadata": {
        "id": "PHNrsHH1cc7J"
      },
      "source": [
        "%cd /content/drive/My Drive/yolo_custom_model_training"
      ],
      "execution_count": null,
      "outputs": []
    },
    {
      "cell_type": "code",
      "metadata": {
        "id": "0HBvmZ5knrjb"
      },
      "source": [
        "!darknet/darknet detector train custom_data/labelled_data.data darknet/cfg/yolov3_custom.cfg custom_weights/darknet53.conv.74 -dont_show"
      ],
      "execution_count": null,
      "outputs": []
    },
    {
      "cell_type": "code",
      "metadata": {
        "id": "cyVCeD5foifJ"
      },
      "source": [
        ""
      ],
      "execution_count": null,
      "outputs": []
    }
  ]
}